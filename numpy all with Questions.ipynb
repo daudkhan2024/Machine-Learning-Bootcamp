{
 "cells": [
  {
   "cell_type": "markdown",
   "id": "22d7d042",
   "metadata": {},
   "source": [
    "## intermediate numpy"
   ]
  },
  {
   "cell_type": "code",
   "execution_count": 1,
   "id": "79a7a02b",
   "metadata": {},
   "outputs": [],
   "source": [
    "import numpy as np"
   ]
  },
  {
   "cell_type": "code",
   "execution_count": 3,
   "id": "3d596df6",
   "metadata": {},
   "outputs": [],
   "source": [
    "myarray = np.arange(10,21)"
   ]
  },
  {
   "cell_type": "code",
   "execution_count": 4,
   "id": "1d673e0e",
   "metadata": {},
   "outputs": [
    {
     "data": {
      "text/plain": [
       "array([10, 11, 12, 13, 14, 15, 16, 17, 18, 19, 20])"
      ]
     },
     "execution_count": 4,
     "metadata": {},
     "output_type": "execute_result"
    }
   ],
   "source": [
    "myarray"
   ]
  },
  {
   "cell_type": "code",
   "execution_count": 5,
   "id": "cde690ca",
   "metadata": {},
   "outputs": [
    {
     "data": {
      "text/plain": [
       "10"
      ]
     },
     "execution_count": 5,
     "metadata": {},
     "output_type": "execute_result"
    }
   ],
   "source": [
    "myarray[0]"
   ]
  },
  {
   "cell_type": "code",
   "execution_count": 8,
   "id": "9ef5d62b",
   "metadata": {},
   "outputs": [
    {
     "data": {
      "text/plain": [
       "array([12])"
      ]
     },
     "execution_count": 8,
     "metadata": {},
     "output_type": "execute_result"
    }
   ],
   "source": [
    "myarray[2:3]"
   ]
  },
  {
   "cell_type": "code",
   "execution_count": 9,
   "id": "eb845c2e",
   "metadata": {},
   "outputs": [
    {
     "data": {
      "text/plain": [
       "array([10, 11, 12, 13])"
      ]
     },
     "execution_count": 9,
     "metadata": {},
     "output_type": "execute_result"
    }
   ],
   "source": [
    "myarray[ :4]"
   ]
  },
  {
   "cell_type": "code",
   "execution_count": 10,
   "id": "096d1551",
   "metadata": {},
   "outputs": [
    {
     "data": {
      "text/plain": [
       "array([14, 15, 16, 17, 18, 19, 20])"
      ]
     },
     "execution_count": 10,
     "metadata": {},
     "output_type": "execute_result"
    }
   ],
   "source": [
    "myarray[4:]"
   ]
  },
  {
   "cell_type": "code",
   "execution_count": 11,
   "id": "83304df1",
   "metadata": {},
   "outputs": [],
   "source": [
    "partarray = myarray[ :4]"
   ]
  },
  {
   "cell_type": "code",
   "execution_count": 12,
   "id": "424fb3d0",
   "metadata": {},
   "outputs": [
    {
     "data": {
      "text/plain": [
       "array([10, 11, 12, 13])"
      ]
     },
     "execution_count": 12,
     "metadata": {},
     "output_type": "execute_result"
    }
   ],
   "source": [
    "partarray"
   ]
  },
  {
   "cell_type": "code",
   "execution_count": 13,
   "id": "6d22e208",
   "metadata": {},
   "outputs": [],
   "source": [
    "partarray[ :]=25"
   ]
  },
  {
   "cell_type": "code",
   "execution_count": 14,
   "id": "6a523278",
   "metadata": {},
   "outputs": [
    {
     "data": {
      "text/plain": [
       "array([25, 25, 25, 25])"
      ]
     },
     "execution_count": 14,
     "metadata": {},
     "output_type": "execute_result"
    }
   ],
   "source": [
    "partarray"
   ]
  },
  {
   "cell_type": "code",
   "execution_count": 15,
   "id": "0eb21ae3",
   "metadata": {},
   "outputs": [],
   "source": [
    "copyarray = myarray.copy()"
   ]
  },
  {
   "cell_type": "code",
   "execution_count": 16,
   "id": "fce57085",
   "metadata": {},
   "outputs": [
    {
     "data": {
      "text/plain": [
       "array([25, 25, 25, 25, 14, 15, 16, 17, 18, 19, 20])"
      ]
     },
     "execution_count": 16,
     "metadata": {},
     "output_type": "execute_result"
    }
   ],
   "source": [
    "copyarray"
   ]
  },
  {
   "cell_type": "code",
   "execution_count": 17,
   "id": "dca97b3a",
   "metadata": {},
   "outputs": [],
   "source": [
    "copyarray[:]= 200"
   ]
  },
  {
   "cell_type": "code",
   "execution_count": 18,
   "id": "1daa8e78",
   "metadata": {},
   "outputs": [
    {
     "data": {
      "text/plain": [
       "array([200, 200, 200, 200, 200, 200, 200, 200, 200, 200, 200])"
      ]
     },
     "execution_count": 18,
     "metadata": {},
     "output_type": "execute_result"
    }
   ],
   "source": [
    "copyarray"
   ]
  },
  {
   "cell_type": "code",
   "execution_count": 19,
   "id": "027ec831",
   "metadata": {},
   "outputs": [
    {
     "data": {
      "text/plain": [
       "array([25, 25, 25, 25, 14, 15, 16, 17, 18, 19, 20])"
      ]
     },
     "execution_count": 19,
     "metadata": {},
     "output_type": "execute_result"
    }
   ],
   "source": [
    "myarray"
   ]
  },
  {
   "cell_type": "markdown",
   "id": "fee225ef",
   "metadata": {},
   "source": [
    "# 2D array"
   ]
  },
  {
   "cell_type": "code",
   "execution_count": 20,
   "id": "df1cb539",
   "metadata": {},
   "outputs": [],
   "source": [
    "my2darray = np.array([[1,2,3],[4,5,6],[7,8,9]])"
   ]
  },
  {
   "cell_type": "code",
   "execution_count": 21,
   "id": "ef7388f8",
   "metadata": {},
   "outputs": [
    {
     "data": {
      "text/plain": [
       "array([[1, 2, 3],\n",
       "       [4, 5, 6],\n",
       "       [7, 8, 9]])"
      ]
     },
     "execution_count": 21,
     "metadata": {},
     "output_type": "execute_result"
    }
   ],
   "source": [
    "my2darray"
   ]
  },
  {
   "cell_type": "code",
   "execution_count": 25,
   "id": "74af13fa",
   "metadata": {},
   "outputs": [],
   "source": [
    "#how to select a value form 2d array forexample grabe 8"
   ]
  },
  {
   "cell_type": "code",
   "execution_count": 26,
   "id": "0abc55f1",
   "metadata": {},
   "outputs": [
    {
     "data": {
      "text/plain": [
       "8"
      ]
     },
     "execution_count": 26,
     "metadata": {},
     "output_type": "execute_result"
    }
   ],
   "source": [
    "my2darray[2][1]"
   ]
  },
  {
   "cell_type": "code",
   "execution_count": 27,
   "id": "90faf989",
   "metadata": {},
   "outputs": [
    {
     "data": {
      "text/plain": [
       "8"
      ]
     },
     "execution_count": 27,
     "metadata": {},
     "output_type": "execute_result"
    }
   ],
   "source": [
    "my2darray[2,1]"
   ]
  },
  {
   "cell_type": "code",
   "execution_count": 29,
   "id": "b208a60b",
   "metadata": {
    "scrolled": true
   },
   "outputs": [
    {
     "data": {
      "text/plain": [
       "array([7, 8, 9])"
      ]
     },
     "execution_count": 29,
     "metadata": {},
     "output_type": "execute_result"
    }
   ],
   "source": [
    "my2darray[2]"
   ]
  },
  {
   "cell_type": "code",
   "execution_count": 33,
   "id": "453e1fcd",
   "metadata": {},
   "outputs": [],
   "source": [
    "#grabing 2,3 and 5,6  submatrix"
   ]
  },
  {
   "cell_type": "code",
   "execution_count": 32,
   "id": "36167090",
   "metadata": {},
   "outputs": [
    {
     "data": {
      "text/plain": [
       "array([[2, 3],\n",
       "       [5, 6]])"
      ]
     },
     "execution_count": 32,
     "metadata": {},
     "output_type": "execute_result"
    }
   ],
   "source": [
    "my2darray[ :2 ,1: ]"
   ]
  },
  {
   "cell_type": "code",
   "execution_count": 52,
   "id": "8ebea2db",
   "metadata": {},
   "outputs": [],
   "source": [
    "#NUmpy Conditional RETURN"
   ]
  },
  {
   "cell_type": "code",
   "execution_count": 53,
   "id": "e4938fc8",
   "metadata": {},
   "outputs": [],
   "source": [
    "newarray = np.arange(2,20)"
   ]
  },
  {
   "cell_type": "code",
   "execution_count": 54,
   "id": "f5bbee55",
   "metadata": {},
   "outputs": [
    {
     "data": {
      "text/plain": [
       "array([ 2,  3,  4,  5,  6,  7,  8,  9, 10, 11, 12, 13, 14, 15, 16, 17, 18,\n",
       "       19])"
      ]
     },
     "execution_count": 54,
     "metadata": {},
     "output_type": "execute_result"
    }
   ],
   "source": [
    "newarray"
   ]
  },
  {
   "cell_type": "code",
   "execution_count": 55,
   "id": "88bebb07",
   "metadata": {},
   "outputs": [
    {
     "data": {
      "text/plain": [
       "array([11, 12, 13, 14, 15, 16, 17, 18, 19])"
      ]
     },
     "execution_count": 55,
     "metadata": {},
     "output_type": "execute_result"
    }
   ],
   "source": [
    "newarray[newarray >10]"
   ]
  },
  {
   "cell_type": "code",
   "execution_count": 56,
   "id": "d22d77df",
   "metadata": {},
   "outputs": [
    {
     "data": {
      "text/plain": [
       "array([False, False, False, False, False, False, False, False, False,\n",
       "        True,  True,  True,  True,  True,  True,  True,  True,  True])"
      ]
     },
     "execution_count": 56,
     "metadata": {},
     "output_type": "execute_result"
    }
   ],
   "source": [
    "newarray>10"
   ]
  },
  {
   "cell_type": "code",
   "execution_count": 60,
   "id": "9f4116ff",
   "metadata": {},
   "outputs": [
    {
     "data": {
      "text/plain": [
       "array([ 2,  3,  4,  5,  6,  7,  8,  9, 10, 11, 12, 13, 14, 15, 16, 17, 18,\n",
       "       19])"
      ]
     },
     "execution_count": 60,
     "metadata": {},
     "output_type": "execute_result"
    }
   ],
   "source": [
    "newarray "
   ]
  },
  {
   "cell_type": "code",
   "execution_count": 61,
   "id": "8a87243d",
   "metadata": {},
   "outputs": [
    {
     "data": {
      "text/plain": [
       "array([ 4,  6,  8, 10, 12, 14, 16, 18, 20, 22, 24, 26, 28, 30, 32, 34, 36,\n",
       "       38])"
      ]
     },
     "execution_count": 61,
     "metadata": {},
     "output_type": "execute_result"
    }
   ],
   "source": [
    "newarray*2"
   ]
  },
  {
   "cell_type": "code",
   "execution_count": 65,
   "id": "2f3864d4",
   "metadata": {},
   "outputs": [
    {
     "data": {
      "text/plain": [
       "array([1.41421356, 1.73205081, 2.        , 2.23606798, 2.44948974,\n",
       "       2.64575131, 2.82842712, 3.        , 3.16227766, 3.31662479,\n",
       "       3.46410162, 3.60555128, 3.74165739, 3.87298335, 4.        ,\n",
       "       4.12310563, 4.24264069, 4.35889894])"
      ]
     },
     "execution_count": 65,
     "metadata": {},
     "output_type": "execute_result"
    }
   ],
   "source": [
    "np.sqrt(newarray)"
   ]
  },
  {
   "cell_type": "code",
   "execution_count": 71,
   "id": "3d7526ee",
   "metadata": {},
   "outputs": [],
   "source": [
    "#What are the advantages of using NUMPY library over standard Python lists?"
   ]
  },
  {
   "cell_type": "code",
   "execution_count": 67,
   "id": "adb07dbd",
   "metadata": {},
   "outputs": [],
   "source": [
    "#Write a NUMPY code to create a 3x3 matrix with values ranging from 1 to 9."
   ]
  },
  {
   "cell_type": "code",
   "execution_count": null,
   "id": "119e2eae",
   "metadata": {},
   "outputs": [],
   "source": [
    "#Explain the difference between broadcasting and vectorization in NUMPY."
   ]
  },
  {
   "cell_type": "code",
   "execution_count": null,
   "id": "9b211761",
   "metadata": {},
   "outputs": [],
   "source": [
    "#Explain the difference between broadcasting and vectorization in NUMPY."
   ]
  },
  {
   "cell_type": "code",
   "execution_count": null,
   "id": "d8b45d21",
   "metadata": {},
   "outputs": [],
   "source": [
    "#Write a NUMPY code to find the mean and standard deviation of a given array."
   ]
  },
  {
   "cell_type": "code",
   "execution_count": null,
   "id": "b15627f2",
   "metadata": {},
   "outputs": [],
   "source": [
    "#.Explain the purpose of the reshape() function in NUMPY with an example."
   ]
  },
  {
   "cell_type": "code",
   "execution_count": null,
   "id": "0d062fbf",
   "metadata": {},
   "outputs": [],
   "source": [
    "#Discuss the usage of universal functions (ufuncs) in NUMPY with examples."
   ]
  },
  {
   "cell_type": "code",
   "execution_count": 68,
   "id": "077af1b3",
   "metadata": {},
   "outputs": [],
   "source": [
    "#What is the purpose of the np.random.rand() function in NUMPY?"
   ]
  },
  {
   "cell_type": "code",
   "execution_count": 69,
   "id": "ced38941",
   "metadata": {},
   "outputs": [],
   "source": [
    "#Write a code to perform matrix multiplication using NUMPY."
   ]
  },
  {
   "cell_type": "code",
   "execution_count": 70,
   "id": "05e5e3ad",
   "metadata": {},
   "outputs": [],
   "source": [
    "#Explain the concept of array indexing and slicing in NUMPY."
   ]
  },
  {
   "cell_type": "code",
   "execution_count": null,
   "id": "4665b4a7",
   "metadata": {},
   "outputs": [],
   "source": []
  },
  {
   "cell_type": "code",
   "execution_count": null,
   "id": "3f376565",
   "metadata": {},
   "outputs": [],
   "source": []
  },
  {
   "cell_type": "code",
   "execution_count": null,
   "id": "089e5841",
   "metadata": {},
   "outputs": [],
   "source": []
  }
 ],
 "metadata": {
  "kernelspec": {
   "display_name": "Python 3 (ipykernel)",
   "language": "python",
   "name": "python3"
  },
  "language_info": {
   "codemirror_mode": {
    "name": "ipython",
    "version": 3
   },
   "file_extension": ".py",
   "mimetype": "text/x-python",
   "name": "python",
   "nbconvert_exporter": "python",
   "pygments_lexer": "ipython3",
   "version": "3.9.12"
  },
  "toc": {
   "base_numbering": 1,
   "nav_menu": {},
   "number_sections": true,
   "sideBar": true,
   "skip_h1_title": false,
   "title_cell": "Table of Contents",
   "title_sidebar": "Contents",
   "toc_cell": false,
   "toc_position": {},
   "toc_section_display": true,
   "toc_window_display": false
  }
 },
 "nbformat": 4,
 "nbformat_minor": 5
}
