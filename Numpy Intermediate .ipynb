{
 "cells": [
  {
   "cell_type": "markdown",
   "id": "95d4e382",
   "metadata": {},
   "source": [
    "## intermediate numpy"
   ]
  },
  {
   "cell_type": "code",
   "execution_count": 1,
   "id": "b117bfa7",
   "metadata": {},
   "outputs": [],
   "source": [
    "import numpy as np"
   ]
  },
  {
   "cell_type": "code",
   "execution_count": 3,
   "id": "118888dc",
   "metadata": {},
   "outputs": [],
   "source": [
    "myarray = np.arange(10,21)"
   ]
  },
  {
   "cell_type": "code",
   "execution_count": 4,
   "id": "59ab294e",
   "metadata": {},
   "outputs": [
    {
     "data": {
      "text/plain": [
       "array([10, 11, 12, 13, 14, 15, 16, 17, 18, 19, 20])"
      ]
     },
     "execution_count": 4,
     "metadata": {},
     "output_type": "execute_result"
    }
   ],
   "source": [
    "myarray"
   ]
  },
  {
   "cell_type": "code",
   "execution_count": 5,
   "id": "4c03691b",
   "metadata": {},
   "outputs": [
    {
     "data": {
      "text/plain": [
       "10"
      ]
     },
     "execution_count": 5,
     "metadata": {},
     "output_type": "execute_result"
    }
   ],
   "source": [
    "myarray[0]"
   ]
  },
  {
   "cell_type": "code",
   "execution_count": 8,
   "id": "8a60ab6d",
   "metadata": {},
   "outputs": [
    {
     "data": {
      "text/plain": [
       "array([12])"
      ]
     },
     "execution_count": 8,
     "metadata": {},
     "output_type": "execute_result"
    }
   ],
   "source": [
    "myarray[2:3]"
   ]
  },
  {
   "cell_type": "code",
   "execution_count": 9,
   "id": "d530b82d",
   "metadata": {},
   "outputs": [
    {
     "data": {
      "text/plain": [
       "array([10, 11, 12, 13])"
      ]
     },
     "execution_count": 9,
     "metadata": {},
     "output_type": "execute_result"
    }
   ],
   "source": [
    "myarray[ :4]"
   ]
  },
  {
   "cell_type": "code",
   "execution_count": 10,
   "id": "cf80b6d9",
   "metadata": {},
   "outputs": [
    {
     "data": {
      "text/plain": [
       "array([14, 15, 16, 17, 18, 19, 20])"
      ]
     },
     "execution_count": 10,
     "metadata": {},
     "output_type": "execute_result"
    }
   ],
   "source": [
    "myarray[4:]"
   ]
  },
  {
   "cell_type": "code",
   "execution_count": 11,
   "id": "ee53801c",
   "metadata": {},
   "outputs": [],
   "source": [
    "partarray = myarray[ :4]"
   ]
  },
  {
   "cell_type": "code",
   "execution_count": 12,
   "id": "bfa31515",
   "metadata": {},
   "outputs": [
    {
     "data": {
      "text/plain": [
       "array([10, 11, 12, 13])"
      ]
     },
     "execution_count": 12,
     "metadata": {},
     "output_type": "execute_result"
    }
   ],
   "source": [
    "partarray"
   ]
  },
  {
   "cell_type": "code",
   "execution_count": 13,
   "id": "9a3fa5b1",
   "metadata": {},
   "outputs": [],
   "source": [
    "partarray[ :]=25"
   ]
  },
  {
   "cell_type": "code",
   "execution_count": 14,
   "id": "40d6d255",
   "metadata": {},
   "outputs": [
    {
     "data": {
      "text/plain": [
       "array([25, 25, 25, 25])"
      ]
     },
     "execution_count": 14,
     "metadata": {},
     "output_type": "execute_result"
    }
   ],
   "source": [
    "partarray"
   ]
  },
  {
   "cell_type": "code",
   "execution_count": 15,
   "id": "22eeed7b",
   "metadata": {},
   "outputs": [],
   "source": [
    "copyarray = myarray.copy()"
   ]
  },
  {
   "cell_type": "code",
   "execution_count": 16,
   "id": "e3453587",
   "metadata": {},
   "outputs": [
    {
     "data": {
      "text/plain": [
       "array([25, 25, 25, 25, 14, 15, 16, 17, 18, 19, 20])"
      ]
     },
     "execution_count": 16,
     "metadata": {},
     "output_type": "execute_result"
    }
   ],
   "source": [
    "copyarray"
   ]
  },
  {
   "cell_type": "code",
   "execution_count": 17,
   "id": "f2f6c4ae",
   "metadata": {},
   "outputs": [],
   "source": [
    "copyarray[:]= 200"
   ]
  },
  {
   "cell_type": "code",
   "execution_count": 18,
   "id": "7040b58f",
   "metadata": {},
   "outputs": [
    {
     "data": {
      "text/plain": [
       "array([200, 200, 200, 200, 200, 200, 200, 200, 200, 200, 200])"
      ]
     },
     "execution_count": 18,
     "metadata": {},
     "output_type": "execute_result"
    }
   ],
   "source": [
    "copyarray"
   ]
  },
  {
   "cell_type": "code",
   "execution_count": 19,
   "id": "be76fba0",
   "metadata": {},
   "outputs": [
    {
     "data": {
      "text/plain": [
       "array([25, 25, 25, 25, 14, 15, 16, 17, 18, 19, 20])"
      ]
     },
     "execution_count": 19,
     "metadata": {},
     "output_type": "execute_result"
    }
   ],
   "source": [
    "myarray"
   ]
  },
  {
   "cell_type": "code",
   "execution_count": null,
   "id": "7fc07042",
   "metadata": {},
   "outputs": [],
   "source": []
  }
 ],
 "metadata": {
  "kernelspec": {
   "display_name": "Python 3 (ipykernel)",
   "language": "python",
   "name": "python3"
  },
  "language_info": {
   "codemirror_mode": {
    "name": "ipython",
    "version": 3
   },
   "file_extension": ".py",
   "mimetype": "text/x-python",
   "name": "python",
   "nbconvert_exporter": "python",
   "pygments_lexer": "ipython3",
   "version": "3.9.12"
  },
  "toc": {
   "base_numbering": 1,
   "nav_menu": {},
   "number_sections": true,
   "sideBar": true,
   "skip_h1_title": false,
   "title_cell": "Table of Contents",
   "title_sidebar": "Contents",
   "toc_cell": false,
   "toc_position": {},
   "toc_section_display": true,
   "toc_window_display": false
  }
 },
 "nbformat": 4,
 "nbformat_minor": 5
}
