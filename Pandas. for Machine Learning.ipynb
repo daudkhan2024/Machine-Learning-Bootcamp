{
 "cells": [
  {
   "cell_type": "markdown",
   "id": "d7c32b11",
   "metadata": {},
   "source": [
    "## pandas"
   ]
  },
  {
   "cell_type": "code",
   "execution_count": 1,
   "id": "560d0913",
   "metadata": {},
   "outputs": [],
   "source": [
    "import numpy as np\n",
    "import pandas as pd"
   ]
  },
  {
   "cell_type": "code",
   "execution_count": 2,
   "id": "a180fddb",
   "metadata": {},
   "outputs": [
    {
     "data": {
      "text/plain": [
       "a    1\n",
       "b    2\n",
       "c    3\n",
       "d    4\n",
       "dtype: int64"
      ]
     },
     "execution_count": 2,
     "metadata": {},
     "output_type": "execute_result"
    }
   ],
   "source": [
    "pd.Series(data=[1,2,3,4], index=['a','b','c','d'])"
   ]
  },
  {
   "cell_type": "code",
   "execution_count": 3,
   "id": "e26eb712",
   "metadata": {},
   "outputs": [],
   "source": [
    "myd= {'e':22,'f':33,'g':44,'h':565}"
   ]
  },
  {
   "cell_type": "code",
   "execution_count": 4,
   "id": "a1f96e38",
   "metadata": {},
   "outputs": [
    {
     "data": {
      "text/plain": [
       "{'e': 22, 'f': 33, 'g': 44, 'h': 565}"
      ]
     },
     "execution_count": 4,
     "metadata": {},
     "output_type": "execute_result"
    }
   ],
   "source": [
    "myd"
   ]
  },
  {
   "cell_type": "code",
   "execution_count": 5,
   "id": "31d4f56d",
   "metadata": {},
   "outputs": [
    {
     "data": {
      "text/plain": [
       "e     22\n",
       "f     33\n",
       "g     44\n",
       "h    565\n",
       "dtype: int64"
      ]
     },
     "execution_count": 5,
     "metadata": {},
     "output_type": "execute_result"
    }
   ],
   "source": [
    "pd.Series(myd)"
   ]
  },
  {
   "cell_type": "code",
   "execution_count": 6,
   "id": "924dd5a5",
   "metadata": {},
   "outputs": [],
   "source": [
    "myseries = pd.Series([1,2,3,4],['a','b','c','d'])"
   ]
  },
  {
   "cell_type": "code",
   "execution_count": 7,
   "id": "0302278e",
   "metadata": {},
   "outputs": [
    {
     "data": {
      "text/plain": [
       "a    1\n",
       "b    2\n",
       "c    3\n",
       "d    4\n",
       "dtype: int64"
      ]
     },
     "execution_count": 7,
     "metadata": {},
     "output_type": "execute_result"
    }
   ],
   "source": [
    "myseries"
   ]
  },
  {
   "cell_type": "code",
   "execution_count": 8,
   "id": "329fe389",
   "metadata": {},
   "outputs": [],
   "source": [
    "myseriestwo = pd.Series([1,0,9,4],['a','b','c','h'])"
   ]
  },
  {
   "cell_type": "code",
   "execution_count": 9,
   "id": "a7a44d4b",
   "metadata": {},
   "outputs": [
    {
     "data": {
      "text/plain": [
       "a    1\n",
       "b    0\n",
       "c    9\n",
       "h    4\n",
       "dtype: int64"
      ]
     },
     "execution_count": 9,
     "metadata": {},
     "output_type": "execute_result"
    }
   ],
   "source": [
    "myseriestwo"
   ]
  },
  {
   "cell_type": "code",
   "execution_count": 10,
   "id": "be6ae375",
   "metadata": {},
   "outputs": [],
   "source": [
    "# merge series...it will give you NaN if the value of first series is not in series two"
   ]
  },
  {
   "cell_type": "code",
   "execution_count": 11,
   "id": "3e82d8c6",
   "metadata": {},
   "outputs": [
    {
     "data": {
      "text/plain": [
       "a     2.0\n",
       "b     2.0\n",
       "c    12.0\n",
       "d     NaN\n",
       "h     NaN\n",
       "dtype: float64"
      ]
     },
     "execution_count": 11,
     "metadata": {},
     "output_type": "execute_result"
    }
   ],
   "source": [
    "myseries + myseriestwo"
   ]
  },
  {
   "cell_type": "code",
   "execution_count": 12,
   "id": "1ea504ba",
   "metadata": {},
   "outputs": [
    {
     "data": {
      "text/plain": [
       "1"
      ]
     },
     "execution_count": 12,
     "metadata": {},
     "output_type": "execute_result"
    }
   ],
   "source": [
    "myseriestwo['a']"
   ]
  },
  {
   "cell_type": "code",
   "execution_count": 13,
   "id": "b8ebf2c5",
   "metadata": {},
   "outputs": [
    {
     "data": {
      "text/plain": [
       "9"
      ]
     },
     "execution_count": 13,
     "metadata": {},
     "output_type": "execute_result"
    }
   ],
   "source": [
    "myseriestwo['c']"
   ]
  },
  {
   "cell_type": "markdown",
   "id": "c55da1f8",
   "metadata": {},
   "source": [
    "## data frame"
   ]
  },
  {
   "cell_type": "code",
   "execution_count": 14,
   "id": "4b219768",
   "metadata": {},
   "outputs": [],
   "source": [
    "from numpy.random import randn"
   ]
  },
  {
   "cell_type": "code",
   "execution_count": 15,
   "id": "16028681",
   "metadata": {},
   "outputs": [
    {
     "data": {
      "text/plain": [
       "array([[ 1.38431658, -0.66316409, -0.48261301, -1.50173921],\n",
       "       [-0.46778638,  1.45079383, -0.03275379,  0.16003362],\n",
       "       [-1.48856188,  0.23877591,  1.82029388, -0.40629158]])"
      ]
     },
     "execution_count": 15,
     "metadata": {},
     "output_type": "execute_result"
    }
   ],
   "source": [
    "randn(3,4)"
   ]
  },
  {
   "cell_type": "code",
   "execution_count": 16,
   "id": "d4a41a9e",
   "metadata": {},
   "outputs": [],
   "source": [
    "mydata = randn(3,4)"
   ]
  },
  {
   "cell_type": "code",
   "execution_count": 17,
   "id": "1cca7d49",
   "metadata": {},
   "outputs": [
    {
     "data": {
      "text/plain": [
       "array([[-0.74923369, -0.96052473, -0.74822378,  0.68811857],\n",
       "       [-1.40474145, -0.00445792, -0.04553243,  0.63675346],\n",
       "       [ 0.65720016,  0.24874916, -0.38383478, -0.70348366]])"
      ]
     },
     "execution_count": 17,
     "metadata": {},
     "output_type": "execute_result"
    }
   ],
   "source": [
    "mydata"
   ]
  },
  {
   "cell_type": "code",
   "execution_count": 18,
   "id": "0e498192",
   "metadata": {},
   "outputs": [],
   "source": [
    "myDataframe = pd.DataFrame(mydata,['R1','R2','R3'],['c1','c2','c3','c4'])"
   ]
  },
  {
   "cell_type": "code",
   "execution_count": 19,
   "id": "435ad788",
   "metadata": {},
   "outputs": [
    {
     "data": {
      "text/html": [
       "<div>\n",
       "<style scoped>\n",
       "    .dataframe tbody tr th:only-of-type {\n",
       "        vertical-align: middle;\n",
       "    }\n",
       "\n",
       "    .dataframe tbody tr th {\n",
       "        vertical-align: top;\n",
       "    }\n",
       "\n",
       "    .dataframe thead th {\n",
       "        text-align: right;\n",
       "    }\n",
       "</style>\n",
       "<table border=\"1\" class=\"dataframe\">\n",
       "  <thead>\n",
       "    <tr style=\"text-align: right;\">\n",
       "      <th></th>\n",
       "      <th>c1</th>\n",
       "      <th>c2</th>\n",
       "      <th>c3</th>\n",
       "      <th>c4</th>\n",
       "    </tr>\n",
       "  </thead>\n",
       "  <tbody>\n",
       "    <tr>\n",
       "      <th>R1</th>\n",
       "      <td>-0.749234</td>\n",
       "      <td>-0.960525</td>\n",
       "      <td>-0.748224</td>\n",
       "      <td>0.688119</td>\n",
       "    </tr>\n",
       "    <tr>\n",
       "      <th>R2</th>\n",
       "      <td>-1.404741</td>\n",
       "      <td>-0.004458</td>\n",
       "      <td>-0.045532</td>\n",
       "      <td>0.636753</td>\n",
       "    </tr>\n",
       "    <tr>\n",
       "      <th>R3</th>\n",
       "      <td>0.657200</td>\n",
       "      <td>0.248749</td>\n",
       "      <td>-0.383835</td>\n",
       "      <td>-0.703484</td>\n",
       "    </tr>\n",
       "  </tbody>\n",
       "</table>\n",
       "</div>"
      ],
      "text/plain": [
       "          c1        c2        c3        c4\n",
       "R1 -0.749234 -0.960525 -0.748224  0.688119\n",
       "R2 -1.404741 -0.004458 -0.045532  0.636753\n",
       "R3  0.657200  0.248749 -0.383835 -0.703484"
      ]
     },
     "execution_count": 19,
     "metadata": {},
     "output_type": "execute_result"
    }
   ],
   "source": [
    "myDataframe"
   ]
  },
  {
   "cell_type": "code",
   "execution_count": 20,
   "id": "61cc3c04",
   "metadata": {},
   "outputs": [
    {
     "data": {
      "text/plain": [
       "R1   -0.749234\n",
       "R2   -1.404741\n",
       "R3    0.657200\n",
       "Name: c1, dtype: float64"
      ]
     },
     "execution_count": 20,
     "metadata": {},
     "output_type": "execute_result"
    }
   ],
   "source": [
    "myDataframe['c1']"
   ]
  },
  {
   "cell_type": "code",
   "execution_count": 21,
   "id": "9af118f6",
   "metadata": {},
   "outputs": [
    {
     "data": {
      "text/html": [
       "<div>\n",
       "<style scoped>\n",
       "    .dataframe tbody tr th:only-of-type {\n",
       "        vertical-align: middle;\n",
       "    }\n",
       "\n",
       "    .dataframe tbody tr th {\n",
       "        vertical-align: top;\n",
       "    }\n",
       "\n",
       "    .dataframe thead th {\n",
       "        text-align: right;\n",
       "    }\n",
       "</style>\n",
       "<table border=\"1\" class=\"dataframe\">\n",
       "  <thead>\n",
       "    <tr style=\"text-align: right;\">\n",
       "      <th></th>\n",
       "      <th>c1</th>\n",
       "      <th>c4</th>\n",
       "    </tr>\n",
       "  </thead>\n",
       "  <tbody>\n",
       "    <tr>\n",
       "      <th>R1</th>\n",
       "      <td>-0.749234</td>\n",
       "      <td>0.688119</td>\n",
       "    </tr>\n",
       "    <tr>\n",
       "      <th>R2</th>\n",
       "      <td>-1.404741</td>\n",
       "      <td>0.636753</td>\n",
       "    </tr>\n",
       "    <tr>\n",
       "      <th>R3</th>\n",
       "      <td>0.657200</td>\n",
       "      <td>-0.703484</td>\n",
       "    </tr>\n",
       "  </tbody>\n",
       "</table>\n",
       "</div>"
      ],
      "text/plain": [
       "          c1        c4\n",
       "R1 -0.749234  0.688119\n",
       "R2 -1.404741  0.636753\n",
       "R3  0.657200 -0.703484"
      ]
     },
     "execution_count": 21,
     "metadata": {},
     "output_type": "execute_result"
    }
   ],
   "source": [
    "myDataframe[['c1','c4']]"
   ]
  },
  {
   "cell_type": "markdown",
   "id": "1078c536",
   "metadata": {},
   "source": [
    "## multiplication"
   ]
  },
  {
   "cell_type": "code",
   "execution_count": 22,
   "id": "6fb6acdb",
   "metadata": {},
   "outputs": [],
   "source": [
    "myDataframe['c5']=  myDataframe['c1']* myDataframe['c3']"
   ]
  },
  {
   "cell_type": "code",
   "execution_count": 23,
   "id": "af1cf4a1",
   "metadata": {},
   "outputs": [
    {
     "data": {
      "text/html": [
       "<div>\n",
       "<style scoped>\n",
       "    .dataframe tbody tr th:only-of-type {\n",
       "        vertical-align: middle;\n",
       "    }\n",
       "\n",
       "    .dataframe tbody tr th {\n",
       "        vertical-align: top;\n",
       "    }\n",
       "\n",
       "    .dataframe thead th {\n",
       "        text-align: right;\n",
       "    }\n",
       "</style>\n",
       "<table border=\"1\" class=\"dataframe\">\n",
       "  <thead>\n",
       "    <tr style=\"text-align: right;\">\n",
       "      <th></th>\n",
       "      <th>c1</th>\n",
       "      <th>c2</th>\n",
       "      <th>c3</th>\n",
       "      <th>c4</th>\n",
       "      <th>c5</th>\n",
       "    </tr>\n",
       "  </thead>\n",
       "  <tbody>\n",
       "    <tr>\n",
       "      <th>R1</th>\n",
       "      <td>-0.749234</td>\n",
       "      <td>-0.960525</td>\n",
       "      <td>-0.748224</td>\n",
       "      <td>0.688119</td>\n",
       "      <td>0.560594</td>\n",
       "    </tr>\n",
       "    <tr>\n",
       "      <th>R2</th>\n",
       "      <td>-1.404741</td>\n",
       "      <td>-0.004458</td>\n",
       "      <td>-0.045532</td>\n",
       "      <td>0.636753</td>\n",
       "      <td>0.063961</td>\n",
       "    </tr>\n",
       "    <tr>\n",
       "      <th>R3</th>\n",
       "      <td>0.657200</td>\n",
       "      <td>0.248749</td>\n",
       "      <td>-0.383835</td>\n",
       "      <td>-0.703484</td>\n",
       "      <td>-0.252256</td>\n",
       "    </tr>\n",
       "  </tbody>\n",
       "</table>\n",
       "</div>"
      ],
      "text/plain": [
       "          c1        c2        c3        c4        c5\n",
       "R1 -0.749234 -0.960525 -0.748224  0.688119  0.560594\n",
       "R2 -1.404741 -0.004458 -0.045532  0.636753  0.063961\n",
       "R3  0.657200  0.248749 -0.383835 -0.703484 -0.252256"
      ]
     },
     "execution_count": 23,
     "metadata": {},
     "output_type": "execute_result"
    }
   ],
   "source": [
    "myDataframe"
   ]
  },
  {
   "cell_type": "markdown",
   "id": "1cb215e2",
   "metadata": {},
   "source": [
    "## deleting a value"
   ]
  },
  {
   "cell_type": "code",
   "execution_count": 24,
   "id": "c3fd1a0c",
   "metadata": {},
   "outputs": [],
   "source": [
    "## we must to give axix"
   ]
  },
  {
   "cell_type": "code",
   "execution_count": 25,
   "id": "b4ed9269",
   "metadata": {},
   "outputs": [],
   "source": [
    "myDataframe.drop('c3',axis = 1,inplace=True)"
   ]
  },
  {
   "cell_type": "code",
   "execution_count": 26,
   "id": "8d27cc84",
   "metadata": {},
   "outputs": [
    {
     "data": {
      "text/html": [
       "<div>\n",
       "<style scoped>\n",
       "    .dataframe tbody tr th:only-of-type {\n",
       "        vertical-align: middle;\n",
       "    }\n",
       "\n",
       "    .dataframe tbody tr th {\n",
       "        vertical-align: top;\n",
       "    }\n",
       "\n",
       "    .dataframe thead th {\n",
       "        text-align: right;\n",
       "    }\n",
       "</style>\n",
       "<table border=\"1\" class=\"dataframe\">\n",
       "  <thead>\n",
       "    <tr style=\"text-align: right;\">\n",
       "      <th></th>\n",
       "      <th>c1</th>\n",
       "      <th>c2</th>\n",
       "      <th>c4</th>\n",
       "      <th>c5</th>\n",
       "    </tr>\n",
       "  </thead>\n",
       "  <tbody>\n",
       "    <tr>\n",
       "      <th>R1</th>\n",
       "      <td>-0.749234</td>\n",
       "      <td>-0.960525</td>\n",
       "      <td>0.688119</td>\n",
       "      <td>0.560594</td>\n",
       "    </tr>\n",
       "    <tr>\n",
       "      <th>R2</th>\n",
       "      <td>-1.404741</td>\n",
       "      <td>-0.004458</td>\n",
       "      <td>0.636753</td>\n",
       "      <td>0.063961</td>\n",
       "    </tr>\n",
       "    <tr>\n",
       "      <th>R3</th>\n",
       "      <td>0.657200</td>\n",
       "      <td>0.248749</td>\n",
       "      <td>-0.703484</td>\n",
       "      <td>-0.252256</td>\n",
       "    </tr>\n",
       "  </tbody>\n",
       "</table>\n",
       "</div>"
      ],
      "text/plain": [
       "          c1        c2        c4        c5\n",
       "R1 -0.749234 -0.960525  0.688119  0.560594\n",
       "R2 -1.404741 -0.004458  0.636753  0.063961\n",
       "R3  0.657200  0.248749 -0.703484 -0.252256"
      ]
     },
     "execution_count": 26,
     "metadata": {},
     "output_type": "execute_result"
    }
   ],
   "source": [
    "myDataframe"
   ]
  },
  {
   "cell_type": "markdown",
   "id": "998139dc",
   "metadata": {},
   "source": [
    "## Dataframe in pandas"
   ]
  },
  {
   "cell_type": "code",
   "execution_count": 27,
   "id": "bb97f88d",
   "metadata": {},
   "outputs": [
    {
     "data": {
      "text/plain": [
       "c1   -1.404741\n",
       "c2   -0.004458\n",
       "c4    0.636753\n",
       "c5    0.063961\n",
       "Name: R2, dtype: float64"
      ]
     },
     "execution_count": 27,
     "metadata": {},
     "output_type": "execute_result"
    }
   ],
   "source": [
    "myDataframe.loc['R2']"
   ]
  },
  {
   "cell_type": "code",
   "execution_count": 28,
   "id": "fcf56637",
   "metadata": {},
   "outputs": [
    {
     "data": {
      "text/plain": [
       "c1   -1.404741\n",
       "c2   -0.004458\n",
       "c4    0.636753\n",
       "c5    0.063961\n",
       "Name: R2, dtype: float64"
      ]
     },
     "execution_count": 28,
     "metadata": {},
     "output_type": "execute_result"
    }
   ],
   "source": [
    "myDataframe.iloc[1]"
   ]
  },
  {
   "cell_type": "code",
   "execution_count": 29,
   "id": "a9d83257",
   "metadata": {},
   "outputs": [
    {
     "data": {
      "text/html": [
       "<div>\n",
       "<style scoped>\n",
       "    .dataframe tbody tr th:only-of-type {\n",
       "        vertical-align: middle;\n",
       "    }\n",
       "\n",
       "    .dataframe tbody tr th {\n",
       "        vertical-align: top;\n",
       "    }\n",
       "\n",
       "    .dataframe thead th {\n",
       "        text-align: right;\n",
       "    }\n",
       "</style>\n",
       "<table border=\"1\" class=\"dataframe\">\n",
       "  <thead>\n",
       "    <tr style=\"text-align: right;\">\n",
       "      <th></th>\n",
       "      <th>c4</th>\n",
       "      <th>c5</th>\n",
       "    </tr>\n",
       "  </thead>\n",
       "  <tbody>\n",
       "    <tr>\n",
       "      <th>R1</th>\n",
       "      <td>0.688119</td>\n",
       "      <td>0.560594</td>\n",
       "    </tr>\n",
       "    <tr>\n",
       "      <th>R2</th>\n",
       "      <td>0.636753</td>\n",
       "      <td>0.063961</td>\n",
       "    </tr>\n",
       "  </tbody>\n",
       "</table>\n",
       "</div>"
      ],
      "text/plain": [
       "          c4        c5\n",
       "R1  0.688119  0.560594\n",
       "R2  0.636753  0.063961"
      ]
     },
     "execution_count": 29,
     "metadata": {},
     "output_type": "execute_result"
    }
   ],
   "source": [
    "myDataframe.loc[['R1','R2'],['c4','c5']]"
   ]
  },
  {
   "cell_type": "code",
   "execution_count": 30,
   "id": "458cbb89",
   "metadata": {},
   "outputs": [
    {
     "data": {
      "text/html": [
       "<div>\n",
       "<style scoped>\n",
       "    .dataframe tbody tr th:only-of-type {\n",
       "        vertical-align: middle;\n",
       "    }\n",
       "\n",
       "    .dataframe tbody tr th {\n",
       "        vertical-align: top;\n",
       "    }\n",
       "\n",
       "    .dataframe thead th {\n",
       "        text-align: right;\n",
       "    }\n",
       "</style>\n",
       "<table border=\"1\" class=\"dataframe\">\n",
       "  <thead>\n",
       "    <tr style=\"text-align: right;\">\n",
       "      <th></th>\n",
       "      <th>c4</th>\n",
       "    </tr>\n",
       "  </thead>\n",
       "  <tbody>\n",
       "    <tr>\n",
       "      <th>R2</th>\n",
       "      <td>0.636753</td>\n",
       "    </tr>\n",
       "  </tbody>\n",
       "</table>\n",
       "</div>"
      ],
      "text/plain": [
       "          c4\n",
       "R2  0.636753"
      ]
     },
     "execution_count": 30,
     "metadata": {},
     "output_type": "execute_result"
    }
   ],
   "source": [
    "myDataframe.loc[['R2'],['c4']]"
   ]
  },
  {
   "cell_type": "markdown",
   "id": "368dd075",
   "metadata": {},
   "source": [
    "## condtional selection in pandas"
   ]
  },
  {
   "cell_type": "code",
   "execution_count": 31,
   "id": "eceea50f",
   "metadata": {},
   "outputs": [
    {
     "data": {
      "text/html": [
       "<div>\n",
       "<style scoped>\n",
       "    .dataframe tbody tr th:only-of-type {\n",
       "        vertical-align: middle;\n",
       "    }\n",
       "\n",
       "    .dataframe tbody tr th {\n",
       "        vertical-align: top;\n",
       "    }\n",
       "\n",
       "    .dataframe thead th {\n",
       "        text-align: right;\n",
       "    }\n",
       "</style>\n",
       "<table border=\"1\" class=\"dataframe\">\n",
       "  <thead>\n",
       "    <tr style=\"text-align: right;\">\n",
       "      <th></th>\n",
       "      <th>c1</th>\n",
       "      <th>c2</th>\n",
       "      <th>c4</th>\n",
       "      <th>c5</th>\n",
       "    </tr>\n",
       "  </thead>\n",
       "  <tbody>\n",
       "    <tr>\n",
       "      <th>R1</th>\n",
       "      <td>-0.749234</td>\n",
       "      <td>-0.960525</td>\n",
       "      <td>0.688119</td>\n",
       "      <td>0.560594</td>\n",
       "    </tr>\n",
       "    <tr>\n",
       "      <th>R2</th>\n",
       "      <td>-1.404741</td>\n",
       "      <td>-0.004458</td>\n",
       "      <td>0.636753</td>\n",
       "      <td>0.063961</td>\n",
       "    </tr>\n",
       "    <tr>\n",
       "      <th>R3</th>\n",
       "      <td>0.657200</td>\n",
       "      <td>0.248749</td>\n",
       "      <td>-0.703484</td>\n",
       "      <td>-0.252256</td>\n",
       "    </tr>\n",
       "  </tbody>\n",
       "</table>\n",
       "</div>"
      ],
      "text/plain": [
       "          c1        c2        c4        c5\n",
       "R1 -0.749234 -0.960525  0.688119  0.560594\n",
       "R2 -1.404741 -0.004458  0.636753  0.063961\n",
       "R3  0.657200  0.248749 -0.703484 -0.252256"
      ]
     },
     "execution_count": 31,
     "metadata": {},
     "output_type": "execute_result"
    }
   ],
   "source": [
    "myDataframe"
   ]
  },
  {
   "cell_type": "code",
   "execution_count": 32,
   "id": "220ed369",
   "metadata": {},
   "outputs": [
    {
     "data": {
      "text/html": [
       "<div>\n",
       "<style scoped>\n",
       "    .dataframe tbody tr th:only-of-type {\n",
       "        vertical-align: middle;\n",
       "    }\n",
       "\n",
       "    .dataframe tbody tr th {\n",
       "        vertical-align: top;\n",
       "    }\n",
       "\n",
       "    .dataframe thead th {\n",
       "        text-align: right;\n",
       "    }\n",
       "</style>\n",
       "<table border=\"1\" class=\"dataframe\">\n",
       "  <thead>\n",
       "    <tr style=\"text-align: right;\">\n",
       "      <th></th>\n",
       "      <th>c1</th>\n",
       "      <th>c2</th>\n",
       "      <th>c4</th>\n",
       "      <th>c5</th>\n",
       "    </tr>\n",
       "  </thead>\n",
       "  <tbody>\n",
       "    <tr>\n",
       "      <th>R1</th>\n",
       "      <td>False</td>\n",
       "      <td>False</td>\n",
       "      <td>True</td>\n",
       "      <td>True</td>\n",
       "    </tr>\n",
       "    <tr>\n",
       "      <th>R2</th>\n",
       "      <td>False</td>\n",
       "      <td>False</td>\n",
       "      <td>True</td>\n",
       "      <td>True</td>\n",
       "    </tr>\n",
       "    <tr>\n",
       "      <th>R3</th>\n",
       "      <td>True</td>\n",
       "      <td>True</td>\n",
       "      <td>False</td>\n",
       "      <td>False</td>\n",
       "    </tr>\n",
       "  </tbody>\n",
       "</table>\n",
       "</div>"
      ],
      "text/plain": [
       "       c1     c2     c4     c5\n",
       "R1  False  False   True   True\n",
       "R2  False  False   True   True\n",
       "R3   True   True  False  False"
      ]
     },
     "execution_count": 32,
     "metadata": {},
     "output_type": "execute_result"
    }
   ],
   "source": [
    "myDataframe > 0"
   ]
  },
  {
   "cell_type": "code",
   "execution_count": 33,
   "id": "330fea7d",
   "metadata": {},
   "outputs": [
    {
     "data": {
      "text/html": [
       "<div>\n",
       "<style scoped>\n",
       "    .dataframe tbody tr th:only-of-type {\n",
       "        vertical-align: middle;\n",
       "    }\n",
       "\n",
       "    .dataframe tbody tr th {\n",
       "        vertical-align: top;\n",
       "    }\n",
       "\n",
       "    .dataframe thead th {\n",
       "        text-align: right;\n",
       "    }\n",
       "</style>\n",
       "<table border=\"1\" class=\"dataframe\">\n",
       "  <thead>\n",
       "    <tr style=\"text-align: right;\">\n",
       "      <th></th>\n",
       "      <th>c1</th>\n",
       "      <th>c2</th>\n",
       "      <th>c4</th>\n",
       "      <th>c5</th>\n",
       "    </tr>\n",
       "  </thead>\n",
       "  <tbody>\n",
       "    <tr>\n",
       "      <th>R1</th>\n",
       "      <td>NaN</td>\n",
       "      <td>NaN</td>\n",
       "      <td>0.688119</td>\n",
       "      <td>0.560594</td>\n",
       "    </tr>\n",
       "    <tr>\n",
       "      <th>R2</th>\n",
       "      <td>NaN</td>\n",
       "      <td>NaN</td>\n",
       "      <td>0.636753</td>\n",
       "      <td>0.063961</td>\n",
       "    </tr>\n",
       "    <tr>\n",
       "      <th>R3</th>\n",
       "      <td>0.6572</td>\n",
       "      <td>0.248749</td>\n",
       "      <td>NaN</td>\n",
       "      <td>NaN</td>\n",
       "    </tr>\n",
       "  </tbody>\n",
       "</table>\n",
       "</div>"
      ],
      "text/plain": [
       "        c1        c2        c4        c5\n",
       "R1     NaN       NaN  0.688119  0.560594\n",
       "R2     NaN       NaN  0.636753  0.063961\n",
       "R3  0.6572  0.248749       NaN       NaN"
      ]
     },
     "execution_count": 33,
     "metadata": {},
     "output_type": "execute_result"
    }
   ],
   "source": [
    "myDataframe[myDataframe > 0]"
   ]
  },
  {
   "cell_type": "code",
   "execution_count": 34,
   "id": "51a3a027",
   "metadata": {},
   "outputs": [
    {
     "data": {
      "text/html": [
       "<div>\n",
       "<style scoped>\n",
       "    .dataframe tbody tr th:only-of-type {\n",
       "        vertical-align: middle;\n",
       "    }\n",
       "\n",
       "    .dataframe tbody tr th {\n",
       "        vertical-align: top;\n",
       "    }\n",
       "\n",
       "    .dataframe thead th {\n",
       "        text-align: right;\n",
       "    }\n",
       "</style>\n",
       "<table border=\"1\" class=\"dataframe\">\n",
       "  <thead>\n",
       "    <tr style=\"text-align: right;\">\n",
       "      <th></th>\n",
       "      <th>c1</th>\n",
       "      <th>c2</th>\n",
       "      <th>c4</th>\n",
       "      <th>c5</th>\n",
       "    </tr>\n",
       "  </thead>\n",
       "  <tbody>\n",
       "    <tr>\n",
       "      <th>R3</th>\n",
       "      <td>0.6572</td>\n",
       "      <td>0.248749</td>\n",
       "      <td>-0.703484</td>\n",
       "      <td>-0.252256</td>\n",
       "    </tr>\n",
       "  </tbody>\n",
       "</table>\n",
       "</div>"
      ],
      "text/plain": [
       "        c1        c2        c4        c5\n",
       "R3  0.6572  0.248749 -0.703484 -0.252256"
      ]
     },
     "execution_count": 34,
     "metadata": {},
     "output_type": "execute_result"
    }
   ],
   "source": [
    "myDataframe[myDataframe['c2'] > 0]"
   ]
  },
  {
   "cell_type": "code",
   "execution_count": 35,
   "id": "95530d8a",
   "metadata": {},
   "outputs": [
    {
     "data": {
      "text/html": [
       "<div>\n",
       "<style scoped>\n",
       "    .dataframe tbody tr th:only-of-type {\n",
       "        vertical-align: middle;\n",
       "    }\n",
       "\n",
       "    .dataframe tbody tr th {\n",
       "        vertical-align: top;\n",
       "    }\n",
       "\n",
       "    .dataframe thead th {\n",
       "        text-align: right;\n",
       "    }\n",
       "</style>\n",
       "<table border=\"1\" class=\"dataframe\">\n",
       "  <thead>\n",
       "    <tr style=\"text-align: right;\">\n",
       "      <th></th>\n",
       "      <th>c1</th>\n",
       "      <th>c2</th>\n",
       "      <th>c4</th>\n",
       "      <th>c5</th>\n",
       "    </tr>\n",
       "  </thead>\n",
       "  <tbody>\n",
       "    <tr>\n",
       "      <th>R1</th>\n",
       "      <td>-0.749234</td>\n",
       "      <td>-0.960525</td>\n",
       "      <td>0.688119</td>\n",
       "      <td>0.560594</td>\n",
       "    </tr>\n",
       "    <tr>\n",
       "      <th>R2</th>\n",
       "      <td>-1.404741</td>\n",
       "      <td>-0.004458</td>\n",
       "      <td>0.636753</td>\n",
       "      <td>0.063961</td>\n",
       "    </tr>\n",
       "  </tbody>\n",
       "</table>\n",
       "</div>"
      ],
      "text/plain": [
       "          c1        c2        c4        c5\n",
       "R1 -0.749234 -0.960525  0.688119  0.560594\n",
       "R2 -1.404741 -0.004458  0.636753  0.063961"
      ]
     },
     "execution_count": 35,
     "metadata": {},
     "output_type": "execute_result"
    }
   ],
   "source": [
    "myDataframe[myDataframe['c5'] > 0]"
   ]
  },
  {
   "cell_type": "markdown",
   "id": "82db80c1",
   "metadata": {},
   "source": [
    "## Multiple condition in pandas"
   ]
  },
  {
   "cell_type": "code",
   "execution_count": 36,
   "id": "ab2104b3",
   "metadata": {},
   "outputs": [
    {
     "data": {
      "text/html": [
       "<div>\n",
       "<style scoped>\n",
       "    .dataframe tbody tr th:only-of-type {\n",
       "        vertical-align: middle;\n",
       "    }\n",
       "\n",
       "    .dataframe tbody tr th {\n",
       "        vertical-align: top;\n",
       "    }\n",
       "\n",
       "    .dataframe thead th {\n",
       "        text-align: right;\n",
       "    }\n",
       "</style>\n",
       "<table border=\"1\" class=\"dataframe\">\n",
       "  <thead>\n",
       "    <tr style=\"text-align: right;\">\n",
       "      <th></th>\n",
       "      <th>c1</th>\n",
       "      <th>c2</th>\n",
       "      <th>c4</th>\n",
       "      <th>c5</th>\n",
       "    </tr>\n",
       "  </thead>\n",
       "  <tbody>\n",
       "    <tr>\n",
       "      <th>R1</th>\n",
       "      <td>-0.749234</td>\n",
       "      <td>-0.960525</td>\n",
       "      <td>0.688119</td>\n",
       "      <td>0.560594</td>\n",
       "    </tr>\n",
       "    <tr>\n",
       "      <th>R2</th>\n",
       "      <td>-1.404741</td>\n",
       "      <td>-0.004458</td>\n",
       "      <td>0.636753</td>\n",
       "      <td>0.063961</td>\n",
       "    </tr>\n",
       "    <tr>\n",
       "      <th>R3</th>\n",
       "      <td>0.657200</td>\n",
       "      <td>0.248749</td>\n",
       "      <td>-0.703484</td>\n",
       "      <td>-0.252256</td>\n",
       "    </tr>\n",
       "  </tbody>\n",
       "</table>\n",
       "</div>"
      ],
      "text/plain": [
       "          c1        c2        c4        c5\n",
       "R1 -0.749234 -0.960525  0.688119  0.560594\n",
       "R2 -1.404741 -0.004458  0.636753  0.063961\n",
       "R3  0.657200  0.248749 -0.703484 -0.252256"
      ]
     },
     "execution_count": 36,
     "metadata": {},
     "output_type": "execute_result"
    }
   ],
   "source": [
    "myDataframe"
   ]
  },
  {
   "cell_type": "code",
   "execution_count": 48,
   "id": "ab5ee71c",
   "metadata": {},
   "outputs": [
    {
     "data": {
      "text/html": [
       "<div>\n",
       "<style scoped>\n",
       "    .dataframe tbody tr th:only-of-type {\n",
       "        vertical-align: middle;\n",
       "    }\n",
       "\n",
       "    .dataframe tbody tr th {\n",
       "        vertical-align: top;\n",
       "    }\n",
       "\n",
       "    .dataframe thead th {\n",
       "        text-align: right;\n",
       "    }\n",
       "</style>\n",
       "<table border=\"1\" class=\"dataframe\">\n",
       "  <thead>\n",
       "    <tr style=\"text-align: right;\">\n",
       "      <th></th>\n",
       "      <th>c1</th>\n",
       "      <th>c2</th>\n",
       "      <th>c4</th>\n",
       "      <th>c5</th>\n",
       "    </tr>\n",
       "  </thead>\n",
       "  <tbody>\n",
       "    <tr>\n",
       "      <th>R1</th>\n",
       "      <td>-0.749234</td>\n",
       "      <td>-0.960525</td>\n",
       "      <td>0.688119</td>\n",
       "      <td>0.560594</td>\n",
       "    </tr>\n",
       "    <tr>\n",
       "      <th>R2</th>\n",
       "      <td>-1.404741</td>\n",
       "      <td>-0.004458</td>\n",
       "      <td>0.636753</td>\n",
       "      <td>0.063961</td>\n",
       "    </tr>\n",
       "  </tbody>\n",
       "</table>\n",
       "</div>"
      ],
      "text/plain": [
       "          c1        c2        c4        c5\n",
       "R1 -0.749234 -0.960525  0.688119  0.560594\n",
       "R2 -1.404741 -0.004458  0.636753  0.063961"
      ]
     },
     "execution_count": 48,
     "metadata": {},
     "output_type": "execute_result"
    }
   ],
   "source": [
    "myDataframe[myDataframe['c4'] > 0]"
   ]
  },
  {
   "cell_type": "code",
   "execution_count": 49,
   "id": "c459afad",
   "metadata": {},
   "outputs": [],
   "source": [
    "#use & "
   ]
  },
  {
   "cell_type": "code",
   "execution_count": 53,
   "id": "fb2cb98c",
   "metadata": {},
   "outputs": [
    {
     "data": {
      "text/html": [
       "<div>\n",
       "<style scoped>\n",
       "    .dataframe tbody tr th:only-of-type {\n",
       "        vertical-align: middle;\n",
       "    }\n",
       "\n",
       "    .dataframe tbody tr th {\n",
       "        vertical-align: top;\n",
       "    }\n",
       "\n",
       "    .dataframe thead th {\n",
       "        text-align: right;\n",
       "    }\n",
       "</style>\n",
       "<table border=\"1\" class=\"dataframe\">\n",
       "  <thead>\n",
       "    <tr style=\"text-align: right;\">\n",
       "      <th></th>\n",
       "      <th>c1</th>\n",
       "      <th>c2</th>\n",
       "      <th>c4</th>\n",
       "      <th>c5</th>\n",
       "    </tr>\n",
       "  </thead>\n",
       "  <tbody>\n",
       "    <tr>\n",
       "      <th>R1</th>\n",
       "      <td>-0.749234</td>\n",
       "      <td>-0.960525</td>\n",
       "      <td>0.688119</td>\n",
       "      <td>0.560594</td>\n",
       "    </tr>\n",
       "    <tr>\n",
       "      <th>R2</th>\n",
       "      <td>-1.404741</td>\n",
       "      <td>-0.004458</td>\n",
       "      <td>0.636753</td>\n",
       "      <td>0.063961</td>\n",
       "    </tr>\n",
       "  </tbody>\n",
       "</table>\n",
       "</div>"
      ],
      "text/plain": [
       "          c1        c2        c4        c5\n",
       "R1 -0.749234 -0.960525  0.688119  0.560594\n",
       "R2 -1.404741 -0.004458  0.636753  0.063961"
      ]
     },
     "execution_count": 53,
     "metadata": {},
     "output_type": "execute_result"
    }
   ],
   "source": [
    "myDataframe[(myDataframe['c5'] > 0)  & (myDataframe['c4'] > 0)]"
   ]
  },
  {
   "cell_type": "code",
   "execution_count": 51,
   "id": "b91038a3",
   "metadata": {},
   "outputs": [],
   "source": [
    "#use or |"
   ]
  },
  {
   "cell_type": "code",
   "execution_count": 54,
   "id": "9e9af443",
   "metadata": {},
   "outputs": [
    {
     "data": {
      "text/html": [
       "<div>\n",
       "<style scoped>\n",
       "    .dataframe tbody tr th:only-of-type {\n",
       "        vertical-align: middle;\n",
       "    }\n",
       "\n",
       "    .dataframe tbody tr th {\n",
       "        vertical-align: top;\n",
       "    }\n",
       "\n",
       "    .dataframe thead th {\n",
       "        text-align: right;\n",
       "    }\n",
       "</style>\n",
       "<table border=\"1\" class=\"dataframe\">\n",
       "  <thead>\n",
       "    <tr style=\"text-align: right;\">\n",
       "      <th></th>\n",
       "      <th>c1</th>\n",
       "      <th>c2</th>\n",
       "      <th>c4</th>\n",
       "      <th>c5</th>\n",
       "    </tr>\n",
       "  </thead>\n",
       "  <tbody>\n",
       "    <tr>\n",
       "      <th>R1</th>\n",
       "      <td>-0.749234</td>\n",
       "      <td>-0.960525</td>\n",
       "      <td>0.688119</td>\n",
       "      <td>0.560594</td>\n",
       "    </tr>\n",
       "    <tr>\n",
       "      <th>R2</th>\n",
       "      <td>-1.404741</td>\n",
       "      <td>-0.004458</td>\n",
       "      <td>0.636753</td>\n",
       "      <td>0.063961</td>\n",
       "    </tr>\n",
       "  </tbody>\n",
       "</table>\n",
       "</div>"
      ],
      "text/plain": [
       "          c1        c2        c4        c5\n",
       "R1 -0.749234 -0.960525  0.688119  0.560594\n",
       "R2 -1.404741 -0.004458  0.636753  0.063961"
      ]
     },
     "execution_count": 54,
     "metadata": {},
     "output_type": "execute_result"
    }
   ],
   "source": [
    "myDataframe[(myDataframe['c5'] > 0)  | (myDataframe['c4'] > 0)]"
   ]
  },
  {
   "cell_type": "code",
   "execution_count": 55,
   "id": "aeed2f81",
   "metadata": {},
   "outputs": [
    {
     "data": {
      "text/html": [
       "<div>\n",
       "<style scoped>\n",
       "    .dataframe tbody tr th:only-of-type {\n",
       "        vertical-align: middle;\n",
       "    }\n",
       "\n",
       "    .dataframe tbody tr th {\n",
       "        vertical-align: top;\n",
       "    }\n",
       "\n",
       "    .dataframe thead th {\n",
       "        text-align: right;\n",
       "    }\n",
       "</style>\n",
       "<table border=\"1\" class=\"dataframe\">\n",
       "  <thead>\n",
       "    <tr style=\"text-align: right;\">\n",
       "      <th></th>\n",
       "      <th>c1</th>\n",
       "      <th>c2</th>\n",
       "      <th>c4</th>\n",
       "      <th>c5</th>\n",
       "    </tr>\n",
       "  </thead>\n",
       "  <tbody>\n",
       "    <tr>\n",
       "      <th>R1</th>\n",
       "      <td>-0.749234</td>\n",
       "      <td>-0.960525</td>\n",
       "      <td>0.688119</td>\n",
       "      <td>0.560594</td>\n",
       "    </tr>\n",
       "    <tr>\n",
       "      <th>R2</th>\n",
       "      <td>-1.404741</td>\n",
       "      <td>-0.004458</td>\n",
       "      <td>0.636753</td>\n",
       "      <td>0.063961</td>\n",
       "    </tr>\n",
       "    <tr>\n",
       "      <th>R3</th>\n",
       "      <td>0.657200</td>\n",
       "      <td>0.248749</td>\n",
       "      <td>-0.703484</td>\n",
       "      <td>-0.252256</td>\n",
       "    </tr>\n",
       "  </tbody>\n",
       "</table>\n",
       "</div>"
      ],
      "text/plain": [
       "          c1        c2        c4        c5\n",
       "R1 -0.749234 -0.960525  0.688119  0.560594\n",
       "R2 -1.404741 -0.004458  0.636753  0.063961\n",
       "R3  0.657200  0.248749 -0.703484 -0.252256"
      ]
     },
     "execution_count": 55,
     "metadata": {},
     "output_type": "execute_result"
    }
   ],
   "source": [
    "myDataframe"
   ]
  },
  {
   "cell_type": "code",
   "execution_count": 56,
   "id": "457f8004",
   "metadata": {},
   "outputs": [],
   "source": [
    "mynewindex =['row1','row2','row3']"
   ]
  },
  {
   "cell_type": "code",
   "execution_count": 59,
   "id": "60331fbd",
   "metadata": {},
   "outputs": [
    {
     "data": {
      "text/plain": [
       "['row1', 'row2', 'row3']"
      ]
     },
     "execution_count": 59,
     "metadata": {},
     "output_type": "execute_result"
    }
   ],
   "source": [
    "mynewindex"
   ]
  },
  {
   "cell_type": "code",
   "execution_count": 60,
   "id": "f3a76972",
   "metadata": {},
   "outputs": [],
   "source": [
    "myDataframe['mynewindex']=mynewindex"
   ]
  },
  {
   "cell_type": "code",
   "execution_count": 61,
   "id": "820df945",
   "metadata": {},
   "outputs": [
    {
     "data": {
      "text/html": [
       "<div>\n",
       "<style scoped>\n",
       "    .dataframe tbody tr th:only-of-type {\n",
       "        vertical-align: middle;\n",
       "    }\n",
       "\n",
       "    .dataframe tbody tr th {\n",
       "        vertical-align: top;\n",
       "    }\n",
       "\n",
       "    .dataframe thead th {\n",
       "        text-align: right;\n",
       "    }\n",
       "</style>\n",
       "<table border=\"1\" class=\"dataframe\">\n",
       "  <thead>\n",
       "    <tr style=\"text-align: right;\">\n",
       "      <th></th>\n",
       "      <th>c1</th>\n",
       "      <th>c2</th>\n",
       "      <th>c4</th>\n",
       "      <th>c5</th>\n",
       "      <th>mynewindex</th>\n",
       "    </tr>\n",
       "  </thead>\n",
       "  <tbody>\n",
       "    <tr>\n",
       "      <th>R1</th>\n",
       "      <td>-0.749234</td>\n",
       "      <td>-0.960525</td>\n",
       "      <td>0.688119</td>\n",
       "      <td>0.560594</td>\n",
       "      <td>row1</td>\n",
       "    </tr>\n",
       "    <tr>\n",
       "      <th>R2</th>\n",
       "      <td>-1.404741</td>\n",
       "      <td>-0.004458</td>\n",
       "      <td>0.636753</td>\n",
       "      <td>0.063961</td>\n",
       "      <td>row2</td>\n",
       "    </tr>\n",
       "    <tr>\n",
       "      <th>R3</th>\n",
       "      <td>0.657200</td>\n",
       "      <td>0.248749</td>\n",
       "      <td>-0.703484</td>\n",
       "      <td>-0.252256</td>\n",
       "      <td>row3</td>\n",
       "    </tr>\n",
       "  </tbody>\n",
       "</table>\n",
       "</div>"
      ],
      "text/plain": [
       "          c1        c2        c4        c5 mynewindex\n",
       "R1 -0.749234 -0.960525  0.688119  0.560594       row1\n",
       "R2 -1.404741 -0.004458  0.636753  0.063961       row2\n",
       "R3  0.657200  0.248749 -0.703484 -0.252256       row3"
      ]
     },
     "execution_count": 61,
     "metadata": {},
     "output_type": "execute_result"
    }
   ],
   "source": [
    "myDataframe"
   ]
  },
  {
   "cell_type": "code",
   "execution_count": 66,
   "id": "096a3917",
   "metadata": {},
   "outputs": [
    {
     "data": {
      "text/html": [
       "<div>\n",
       "<style scoped>\n",
       "    .dataframe tbody tr th:only-of-type {\n",
       "        vertical-align: middle;\n",
       "    }\n",
       "\n",
       "    .dataframe tbody tr th {\n",
       "        vertical-align: top;\n",
       "    }\n",
       "\n",
       "    .dataframe thead th {\n",
       "        text-align: right;\n",
       "    }\n",
       "</style>\n",
       "<table border=\"1\" class=\"dataframe\">\n",
       "  <thead>\n",
       "    <tr style=\"text-align: right;\">\n",
       "      <th></th>\n",
       "      <th>c1</th>\n",
       "      <th>c2</th>\n",
       "      <th>c4</th>\n",
       "      <th>c5</th>\n",
       "    </tr>\n",
       "    <tr>\n",
       "      <th>mynewindex</th>\n",
       "      <th></th>\n",
       "      <th></th>\n",
       "      <th></th>\n",
       "      <th></th>\n",
       "    </tr>\n",
       "  </thead>\n",
       "  <tbody>\n",
       "    <tr>\n",
       "      <th>row1</th>\n",
       "      <td>-0.749234</td>\n",
       "      <td>-0.960525</td>\n",
       "      <td>0.688119</td>\n",
       "      <td>0.560594</td>\n",
       "    </tr>\n",
       "    <tr>\n",
       "      <th>row2</th>\n",
       "      <td>-1.404741</td>\n",
       "      <td>-0.004458</td>\n",
       "      <td>0.636753</td>\n",
       "      <td>0.063961</td>\n",
       "    </tr>\n",
       "    <tr>\n",
       "      <th>row3</th>\n",
       "      <td>0.657200</td>\n",
       "      <td>0.248749</td>\n",
       "      <td>-0.703484</td>\n",
       "      <td>-0.252256</td>\n",
       "    </tr>\n",
       "  </tbody>\n",
       "</table>\n",
       "</div>"
      ],
      "text/plain": [
       "                  c1        c2        c4        c5\n",
       "mynewindex                                        \n",
       "row1       -0.749234 -0.960525  0.688119  0.560594\n",
       "row2       -1.404741 -0.004458  0.636753  0.063961\n",
       "row3        0.657200  0.248749 -0.703484 -0.252256"
      ]
     },
     "execution_count": 66,
     "metadata": {},
     "output_type": "execute_result"
    }
   ],
   "source": [
    "myDataframe.set_index('mynewindex')"
   ]
  },
  {
   "cell_type": "code",
   "execution_count": 67,
   "id": "aea9c7b2",
   "metadata": {},
   "outputs": [],
   "source": [
    "myDataframe.set_index('mynewindex', inplace=True)"
   ]
  },
  {
   "cell_type": "code",
   "execution_count": 68,
   "id": "ca35fecd",
   "metadata": {},
   "outputs": [
    {
     "data": {
      "text/html": [
       "<div>\n",
       "<style scoped>\n",
       "    .dataframe tbody tr th:only-of-type {\n",
       "        vertical-align: middle;\n",
       "    }\n",
       "\n",
       "    .dataframe tbody tr th {\n",
       "        vertical-align: top;\n",
       "    }\n",
       "\n",
       "    .dataframe thead th {\n",
       "        text-align: right;\n",
       "    }\n",
       "</style>\n",
       "<table border=\"1\" class=\"dataframe\">\n",
       "  <thead>\n",
       "    <tr style=\"text-align: right;\">\n",
       "      <th></th>\n",
       "      <th>c1</th>\n",
       "      <th>c2</th>\n",
       "      <th>c4</th>\n",
       "      <th>c5</th>\n",
       "    </tr>\n",
       "    <tr>\n",
       "      <th>mynewindex</th>\n",
       "      <th></th>\n",
       "      <th></th>\n",
       "      <th></th>\n",
       "      <th></th>\n",
       "    </tr>\n",
       "  </thead>\n",
       "  <tbody>\n",
       "    <tr>\n",
       "      <th>row1</th>\n",
       "      <td>-0.749234</td>\n",
       "      <td>-0.960525</td>\n",
       "      <td>0.688119</td>\n",
       "      <td>0.560594</td>\n",
       "    </tr>\n",
       "    <tr>\n",
       "      <th>row2</th>\n",
       "      <td>-1.404741</td>\n",
       "      <td>-0.004458</td>\n",
       "      <td>0.636753</td>\n",
       "      <td>0.063961</td>\n",
       "    </tr>\n",
       "    <tr>\n",
       "      <th>row3</th>\n",
       "      <td>0.657200</td>\n",
       "      <td>0.248749</td>\n",
       "      <td>-0.703484</td>\n",
       "      <td>-0.252256</td>\n",
       "    </tr>\n",
       "  </tbody>\n",
       "</table>\n",
       "</div>"
      ],
      "text/plain": [
       "                  c1        c2        c4        c5\n",
       "mynewindex                                        \n",
       "row1       -0.749234 -0.960525  0.688119  0.560594\n",
       "row2       -1.404741 -0.004458  0.636753  0.063961\n",
       "row3        0.657200  0.248749 -0.703484 -0.252256"
      ]
     },
     "execution_count": 68,
     "metadata": {},
     "output_type": "execute_result"
    }
   ],
   "source": [
    "myDataframe"
   ]
  },
  {
   "cell_type": "code",
   "execution_count": null,
   "id": "786041a9",
   "metadata": {},
   "outputs": [],
   "source": []
  },
  {
   "cell_type": "code",
   "execution_count": null,
   "id": "4d2f7c7c",
   "metadata": {},
   "outputs": [],
   "source": []
  },
  {
   "cell_type": "code",
   "execution_count": null,
   "id": "f13f4668",
   "metadata": {},
   "outputs": [],
   "source": []
  },
  {
   "cell_type": "code",
   "execution_count": null,
   "id": "62f479d7",
   "metadata": {},
   "outputs": [],
   "source": []
  }
 ],
 "metadata": {
  "kernelspec": {
   "display_name": "Python 3 (ipykernel)",
   "language": "python",
   "name": "python3"
  },
  "language_info": {
   "codemirror_mode": {
    "name": "ipython",
    "version": 3
   },
   "file_extension": ".py",
   "mimetype": "text/x-python",
   "name": "python",
   "nbconvert_exporter": "python",
   "pygments_lexer": "ipython3",
   "version": "3.9.12"
  },
  "toc": {
   "base_numbering": 1,
   "nav_menu": {},
   "number_sections": true,
   "sideBar": true,
   "skip_h1_title": false,
   "title_cell": "Table of Contents",
   "title_sidebar": "Contents",
   "toc_cell": false,
   "toc_position": {},
   "toc_section_display": true,
   "toc_window_display": false
  }
 },
 "nbformat": 4,
 "nbformat_minor": 5
}
